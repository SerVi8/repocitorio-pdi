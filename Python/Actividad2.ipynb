{
 "cells": [
  {
   "cell_type": "markdown",
   "metadata": {},
   "source": [
    "Ejercicio 1"
   ]
  },
  {
   "cell_type": "code",
   "execution_count": null,
   "metadata": {},
   "outputs": [
    {
     "name": "stdout",
     "output_type": "stream",
     "text": [
      "El factorial de 0 es: 120\n"
     ]
    }
   ],
   "source": [
    "num = int(input(\"Ingrese un numero: \"))\n",
    "n = num\n",
    "fact = 1\n",
    "while (n > 0):\n",
    "  fact *= n\n",
    "  n -= 1\n",
    "\n",
    "print(\"El factorial de\", num, \"es:\", fact)"
   ]
  },
  {
   "cell_type": "markdown",
   "metadata": {},
   "source": [
    "Ejercicio 2"
   ]
  },
  {
   "cell_type": "code",
   "execution_count": 3,
   "metadata": {},
   "outputs": [
    {
     "name": "stdout",
     "output_type": "stream",
     "text": [
      "El numero es primo\n"
     ]
    }
   ],
   "source": [
    "def esPrimo(n):\n",
    "  if n <= 1:\n",
    "    return False\n",
    "  for i in range(2, int(n/2) + 1):\n",
    "    if n % i == 0:\n",
    "      return False\n",
    "  return True\n",
    "\n",
    "num = int(input(\"Ingrese un numero: \"))\n",
    "if esPrimo(num):\n",
    "  print(\"El numero es primo\")\n",
    "else:\n",
    "  print(\"El numero no es primo\")\n",
    "  "
   ]
  },
  {
   "cell_type": "markdown",
   "metadata": {},
   "source": [
    "Ejercicio 3"
   ]
  },
  {
   "cell_type": "code",
   "execution_count": 4,
   "metadata": {},
   "outputs": [
    {
     "name": "stdout",
     "output_type": "stream",
     "text": [
      "El mayor es: 20\n"
     ]
    }
   ],
   "source": [
    "while True:\n",
    "  n = int(input(\"Ingrese la cantidad de numeros: \"))\n",
    "  if n >= 3:\n",
    "    mayor = int(input(\"Ingrese un numero: \")) \n",
    "    for i in range(n-1):\n",
    "      num = int(input(\"Ingrese un numero: \"))\n",
    "      if num > mayor:\n",
    "        mayor = num\n",
    "    print(\"El mayor es:\", mayor)\n",
    "    break\n",
    "  else:\n",
    "    print(\"la cantidad de numeros debe ser 3 o mas\")\n",
    "\n"
   ]
  },
  {
   "cell_type": "markdown",
   "metadata": {},
   "source": [
    "Ejercicio 4"
   ]
  },
  {
   "cell_type": "code",
   "execution_count": null,
   "metadata": {},
   "outputs": [
    {
     "name": "stdout",
     "output_type": "stream",
     "text": [
      "La cadena es palindroma\n"
     ]
    }
   ],
   "source": [
    "def palindroma(cad):\n",
    "  for i in range(len(cad)//2):\n",
    "    if cad[i] != cad[-i-1]:\n",
    "      return False\n",
    "  return True\n",
    "\n",
    "\n",
    "cadena = input()\n",
    "if(palindroma(cadena)):\n",
    "  print(\"La cadena es palindroma\")\n",
    "else:\n",
    "  print(\"La cadena no es palindroma\")\n"
   ]
  },
  {
   "cell_type": "markdown",
   "metadata": {},
   "source": [
    "Ejercicio 5"
   ]
  },
  {
   "cell_type": "code",
   "execution_count": 10,
   "metadata": {},
   "outputs": [
    {
     "name": "stdout",
     "output_type": "stream",
     "text": [
      "El numero 5 se repite 4\n"
     ]
    }
   ],
   "source": [
    "numeros = {}\n",
    "for i in range(7):\n",
    "  n = int(input())\n",
    "  if (numeros.get(n) == None):\n",
    "    numeros[n] = 1\n",
    "  else:\n",
    "    numeros[n] += 1\n",
    "\n",
    "numMayor = 0\n",
    "repet = 0\n",
    "for i in numeros:\n",
    "  if numeros[i] > repet:\n",
    "    repet = numeros[i]\n",
    "    numMayor = i\n",
    "print(\"El numero\", numMayor, \"se repite\", repet)"
   ]
  },
  {
   "cell_type": "markdown",
   "metadata": {},
   "source": [
    "Ejecicio 6"
   ]
  },
  {
   "cell_type": "code",
   "execution_count": 6,
   "metadata": {},
   "outputs": [
    {
     "name": "stdout",
     "output_type": "stream",
     "text": [
      "Las palabras son anagramas\n"
     ]
    }
   ],
   "source": [
    "def anagrama(cad1, cad2):\n",
    "  cad1 = cad1.lower()\n",
    "  cad2 = cad2.lower()\n",
    "  return sorted(cad1) == sorted(cad2)\n",
    "\n",
    "cad1 = input(\"Ingrese una palabra: \")\n",
    "cad2 = input(\"Ingrese otra palabra: \")\n",
    "\n",
    "if anagrama(cad1, cad2):\n",
    "  print(\"Las palabras son anagramas\")\n",
    "else:\n",
    "  print(\"Las palabras no son anagramas\")"
   ]
  },
  {
   "cell_type": "markdown",
   "metadata": {},
   "source": [
    "Ejercicio 7"
   ]
  },
  {
   "cell_type": "code",
   "execution_count": null,
   "metadata": {},
   "outputs": [
    {
     "name": "stdout",
     "output_type": "stream",
     "text": [
      "[2, 3, 4, 6, 9]\n"
     ]
    }
   ],
   "source": [
    "#ordenar por metodo burbuja\n",
    "arr = [3,4,6,2,9]\n",
    "n = len(arr)\n",
    "for i in range(n):\n",
    "  for j in range(0, n-i-1):\n",
    "    if arr[j] > arr[j+1]:\n",
    "      arr[j], arr[j+1] = arr[j+1], arr[j]\n",
    "print(arr)"
   ]
  }
 ],
 "metadata": {
  "kernelspec": {
   "display_name": "entornopdi",
   "language": "python",
   "name": "python3"
  },
  "language_info": {
   "codemirror_mode": {
    "name": "ipython",
    "version": 3
   },
   "file_extension": ".py",
   "mimetype": "text/x-python",
   "name": "python",
   "nbconvert_exporter": "python",
   "pygments_lexer": "ipython3",
   "version": "3.10.16"
  }
 },
 "nbformat": 4,
 "nbformat_minor": 2
}
